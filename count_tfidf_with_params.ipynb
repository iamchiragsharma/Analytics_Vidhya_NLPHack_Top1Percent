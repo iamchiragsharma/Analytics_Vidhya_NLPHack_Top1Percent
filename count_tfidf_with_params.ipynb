{
 "cells": [
  {
   "cell_type": "code",
   "execution_count": 1,
   "metadata": {},
   "outputs": [],
   "source": [
    "import pandas as pd\n",
    "import numpy as np\n",
    "from data_utils import remove_accented_chars\n",
    "from tqdm import tqdm\n",
    "from sklearn.model_selection import train_test_split"
   ]
  },
  {
   "cell_type": "code",
   "execution_count": 2,
   "metadata": {},
   "outputs": [],
   "source": [
    "import spacy\n",
    "nlp = spacy.load(\"en_core_web_sm\")"
   ]
  },
  {
   "cell_type": "code",
   "execution_count": 3,
   "metadata": {},
   "outputs": [
    {
     "data": {
      "text/html": [
       "<div>\n",
       "<style scoped>\n",
       "    .dataframe tbody tr th:only-of-type {\n",
       "        vertical-align: middle;\n",
       "    }\n",
       "\n",
       "    .dataframe tbody tr th {\n",
       "        vertical-align: top;\n",
       "    }\n",
       "\n",
       "    .dataframe thead th {\n",
       "        text-align: right;\n",
       "    }\n",
       "</style>\n",
       "<table border=\"1\" class=\"dataframe\">\n",
       "  <thead>\n",
       "    <tr style=\"text-align: right;\">\n",
       "      <th></th>\n",
       "      <th>review_id</th>\n",
       "      <th>title</th>\n",
       "      <th>year</th>\n",
       "      <th>user_review</th>\n",
       "      <th>user_suggestion</th>\n",
       "      <th>developer</th>\n",
       "      <th>publisher</th>\n",
       "      <th>tags</th>\n",
       "      <th>overview</th>\n",
       "    </tr>\n",
       "  </thead>\n",
       "  <tbody>\n",
       "    <tr>\n",
       "      <th>0</th>\n",
       "      <td>1</td>\n",
       "      <td>Spooky's Jump Scare Mansion</td>\n",
       "      <td>2016.0</td>\n",
       "      <td>i am scared and hearing creepy voices so i wil...</td>\n",
       "      <td>1</td>\n",
       "      <td>Lag Studios</td>\n",
       "      <td>Lag Studios</td>\n",
       "      <td>Horror Free to Play Cute First-Person Singlepl...</td>\n",
       "      <td>can you survive 1000 rooms of cute terror or w...</td>\n",
       "    </tr>\n",
       "    <tr>\n",
       "      <th>1</th>\n",
       "      <td>2</td>\n",
       "      <td>Spooky's Jump Scare Mansion</td>\n",
       "      <td>2016.0</td>\n",
       "      <td>best game more better than sam peppers youtube...</td>\n",
       "      <td>1</td>\n",
       "      <td>Lag Studios</td>\n",
       "      <td>Lag Studios</td>\n",
       "      <td>Horror Free to Play Cute First-Person Singlepl...</td>\n",
       "      <td>can you survive 1000 rooms of cute terror or w...</td>\n",
       "    </tr>\n",
       "    <tr>\n",
       "      <th>2</th>\n",
       "      <td>3</td>\n",
       "      <td>Spooky's Jump Scare Mansion</td>\n",
       "      <td>2016.0</td>\n",
       "      <td>a littly iffy on the controls but once you kno...</td>\n",
       "      <td>1</td>\n",
       "      <td>Lag Studios</td>\n",
       "      <td>Lag Studios</td>\n",
       "      <td>Horror Free to Play Cute First-Person Singlepl...</td>\n",
       "      <td>can you survive 1000 rooms of cute terror or w...</td>\n",
       "    </tr>\n",
       "    <tr>\n",
       "      <th>3</th>\n",
       "      <td>4</td>\n",
       "      <td>Spooky's Jump Scare Mansion</td>\n",
       "      <td>2015.0</td>\n",
       "      <td>great game fun and colorful and all that a sid...</td>\n",
       "      <td>1</td>\n",
       "      <td>Lag Studios</td>\n",
       "      <td>Lag Studios</td>\n",
       "      <td>Horror Free to Play Cute First-Person Singlepl...</td>\n",
       "      <td>can you survive 1000 rooms of cute terror or w...</td>\n",
       "    </tr>\n",
       "    <tr>\n",
       "      <th>4</th>\n",
       "      <td>5</td>\n",
       "      <td>Spooky's Jump Scare Mansion</td>\n",
       "      <td>2015.0</td>\n",
       "      <td>not many games have the cute tag right next to...</td>\n",
       "      <td>1</td>\n",
       "      <td>Lag Studios</td>\n",
       "      <td>Lag Studios</td>\n",
       "      <td>Horror Free to Play Cute First-Person Singlepl...</td>\n",
       "      <td>can you survive 1000 rooms of cute terror or w...</td>\n",
       "    </tr>\n",
       "  </tbody>\n",
       "</table>\n",
       "</div>"
      ],
      "text/plain": [
       "   review_id                        title    year  \\\n",
       "0          1  Spooky's Jump Scare Mansion  2016.0   \n",
       "1          2  Spooky's Jump Scare Mansion  2016.0   \n",
       "2          3  Spooky's Jump Scare Mansion  2016.0   \n",
       "3          4  Spooky's Jump Scare Mansion  2015.0   \n",
       "4          5  Spooky's Jump Scare Mansion  2015.0   \n",
       "\n",
       "                                         user_review  user_suggestion  \\\n",
       "0  i am scared and hearing creepy voices so i wil...                1   \n",
       "1  best game more better than sam peppers youtube...                1   \n",
       "2  a littly iffy on the controls but once you kno...                1   \n",
       "3  great game fun and colorful and all that a sid...                1   \n",
       "4  not many games have the cute tag right next to...                1   \n",
       "\n",
       "      developer     publisher  \\\n",
       "0  Lag Studios   Lag Studios    \n",
       "1  Lag Studios   Lag Studios    \n",
       "2  Lag Studios   Lag Studios    \n",
       "3  Lag Studios   Lag Studios    \n",
       "4  Lag Studios   Lag Studios    \n",
       "\n",
       "                                                tags  \\\n",
       "0  Horror Free to Play Cute First-Person Singlepl...   \n",
       "1  Horror Free to Play Cute First-Person Singlepl...   \n",
       "2  Horror Free to Play Cute First-Person Singlepl...   \n",
       "3  Horror Free to Play Cute First-Person Singlepl...   \n",
       "4  Horror Free to Play Cute First-Person Singlepl...   \n",
       "\n",
       "                                            overview  \n",
       "0  can you survive 1000 rooms of cute terror or w...  \n",
       "1  can you survive 1000 rooms of cute terror or w...  \n",
       "2  can you survive 1000 rooms of cute terror or w...  \n",
       "3  can you survive 1000 rooms of cute terror or w...  \n",
       "4  can you survive 1000 rooms of cute terror or w...  "
      ]
     },
     "execution_count": 3,
     "metadata": {},
     "output_type": "execute_result"
    }
   ],
   "source": [
    "train = pd.read_csv(\"proper_cleaned_data/clean_review_tags_overview_notremoved_stopwords_frequent_nonfrequent_words.csv\")\n",
    "train.head()"
   ]
  },
  {
   "cell_type": "code",
   "execution_count": 4,
   "metadata": {},
   "outputs": [
    {
     "name": "stdout",
     "output_type": "stream",
     "text": [
      "Original Train File:  (17494, 9)\n",
      "Train File After Dropping na and ' ' empty string:  (17472, 9)\n",
      "Train File After Double Check of na and ' ' empty string:  (17472, 9)\n"
     ]
    }
   ],
   "source": [
    "print(\"Original Train File: \", train.shape)\n",
    "train = train.drop(train[train['user_review'].isna()].index) #Dropping na index from text\n",
    "empty_idx = train[train['user_review'] == ' '].index\n",
    "train = train.drop(index=empty_idx)\n",
    "print(\"Train File After Dropping na and ' ' empty string: \",train.shape)\n",
    "user_review = train.user_review.values\n",
    "idx = []\n",
    "for i,ur in enumerate(user_review): #Checking whether there are still values which are not string (nan is a float)\n",
    "    if not isinstance(ur,str):\n",
    "        idx.append(i)\n",
    "train = train.drop(index=idx)\n",
    "print(\"Train File After Double Check of na and ' ' empty string: \",train.shape)"
   ]
  },
  {
   "cell_type": "code",
   "execution_count": 5,
   "metadata": {},
   "outputs": [],
   "source": [
    "train['title'] = train['title'].apply(remove_accented_chars).apply(str.lower).replace(r\"[-!':]\",\" \",regex=True)\n",
    "train['tags'] = train['tags'].apply(remove_accented_chars).apply(str.lower).replace(r\"[-!':]\",\" \",regex=True)\n",
    "train['user_review'] = train['user_review'] + \" \" + train['title'] + \" \" + train['tags'] "
   ]
  },
  {
   "cell_type": "code",
   "execution_count": 7,
   "metadata": {},
   "outputs": [],
   "source": [
    "def count_tfidf_without_stop_removal(train,create_test=True):\n",
    "    print(\"Original Train File: \", train.shape)\n",
    "    train = train.drop(train[train['user_review'].isna()].index) #Dropping na index from text\n",
    "    empty_idx = train[train['user_review'] == ' '].index\n",
    "    train = train.drop(index=empty_idx)\n",
    "    print(\"Train File After Dropping na and ' ' empty string: \",train.shape)\n",
    "    user_review = train.user_review.values\n",
    "    idx = []\n",
    "    for i,ur in enumerate(user_review): #Checking whether there are still values which are not string (nan is a float)\n",
    "        if not isinstance(ur,str):\n",
    "            idx.append(i)\n",
    "    train = train.drop(index=idx)\n",
    "    print(\"Train File After Double Check of na and ' ' empty string: \",train.shape)\n",
    "    user_review = train.user_review.values #Safe since we have updated train at each step\n",
    "    docs = nlp.pipe(user_review) #fitting it to the pipeline\n",
    "    cleaned_text = []\n",
    "    pbar = tqdm(total=len(user_review))\n",
    "    for i,doc in enumerate(docs):\n",
    "        doc_vec = []\n",
    "        for token in doc:\n",
    "            doc_vec.append(token.text)\n",
    "        cleaned_text.append(doc_vec)\n",
    "        if i%1000 == 0  and i != 0:\n",
    "            pbar.update(1000)\n",
    "    pbar.close()\n",
    "    print(\"++++++++++ CLEANING DONE +++++++++++++\")\n",
    "    print(\"+++++++++ ORIGINAL REVIEW +++++++++++\")\n",
    "    print(user_review[0])\n",
    "    print(\"+++++++++ TEXT CLEANED ++++++++++++++\")\n",
    "    print(\" \".join(cleaned_text[0]))\n",
    "    corpus = np.array([\" \".join(t) for t in cleaned_text])\n",
    "    if create_test:\n",
    "        X_train,X_test,y_train,y_test = train_test_split(corpus,train.user_suggestion.values,stratify=train.user_suggestion.values,test_size=0.2)\n",
    "        return X_train,X_test,y_train,y_test,corpus\n",
    "    else:\n",
    "        return corpus,train.user_suggestion.values,corpus"
   ]
  },
  {
   "cell_type": "code",
   "execution_count": 13,
   "metadata": {},
   "outputs": [
    {
     "name": "stderr",
     "output_type": "stream",
     "text": [
      "  0%|          | 0/17472 [00:00<?, ?it/s]"
     ]
    },
    {
     "name": "stdout",
     "output_type": "stream",
     "text": [
      "Original Train File:  (17472, 9)\n",
      "Train File After Dropping na and ' ' empty string:  (17472, 9)\n",
      "Train File After Double Check of na and ' ' empty string:  (17472, 9)\n"
     ]
    },
    {
     "name": "stderr",
     "output_type": "stream",
     "text": [
      " 97%|█████████▋| 17000/17472 [04:23<00:07, 64.46it/s]\n"
     ]
    },
    {
     "name": "stdout",
     "output_type": "stream",
     "text": [
      "++++++++++ CLEANING DONE +++++++++++++\n",
      "+++++++++ ORIGINAL REVIEW +++++++++++\n",
      "i am scared and hearing creepy voices so i will pause for a moment and write a review while i wait for my heart beat to return to atleast somewhat calmer times this game is adorable and creepy like my happy tree friends but with the graphics sceme of my childhood but more bubble and clean hello 1990s what charactes there are that isnot trying to kill me were likable and a bit odd i did do a few noob things though such as oh look a class room full of ghosts from dead children lets shine my flashlight on them and stand there staring at them or hmm creepy music i will turn around and see if i can see what is chasing me never before in a game have i been this afraid of finding a locked door spooky s jump scare mansion horror free to play cute first person singleplayer psychological horror indie adventure dark funny atmospheric action walking simulator survival survival horror anime gore comedy multiplayer illuminati\n",
      "+++++++++ TEXT CLEANED ++++++++++++++\n",
      "i am scared and hearing creepy voices so i will pause for a moment and write a review while i wait for my heart beat to return to atleast somewhat calmer times this game is adorable and creepy like my happy tree friends but with the graphics sceme of my childhood but more bubble and clean hello 1990s what charactes there are that isnot trying to kill me were likable and a bit odd i did do a few noob things though such as oh look a class room full of ghosts from dead children lets shine my flashlight on them and stand there staring at them or hmm creepy music i will turn around and see if i can see what is chasing me never before in a game have i been this afraid of finding a locked door spooky s jump scare mansion horror free to play cute first person singleplayer psychological horror indie adventure dark funny atmospheric action walking simulator survival survival horror anime gore comedy multiplayer illuminati\n"
     ]
    }
   ],
   "source": [
    "# X_train,X_test,y_train,y_test,train_corpus = count_tfidf_without_stop_removal(train)\n",
    "X_train,y_train,corpus = count_tfidf_without_stop_removal(train,create_test=False)"
   ]
  },
  {
   "cell_type": "code",
   "execution_count": 14,
   "metadata": {},
   "outputs": [],
   "source": [
    "test = pd.read_csv(\"proper_cleaned_data/test_clean_review_tags_overview_notremoved_stopwords_frequent_nonfrequent_words.csv\")\n",
    "test['title'] = test['title'].apply(remove_accented_chars).apply(str.lower).replace(r\"[-!':]\",\" \",regex=True)\n",
    "test['tags'] = test['tags'].apply(remove_accented_chars).apply(str.lower).replace(r\"[-!':]\",\" \",regex=True)\n",
    "test['user_review'] = test['user_review'] + \" \" + test['title'] + \" \" + test['tags'] "
   ]
  },
  {
   "cell_type": "code",
   "execution_count": 15,
   "metadata": {},
   "outputs": [],
   "source": [
    "def test_cleaning_without_stop_removal(test):\n",
    "    nan_idx = test[test['user_review'].isna()].index\n",
    "    test.loc[nan_idx,'user_review'] = test.loc[nan_idx,'title']\n",
    "    test_user_review = test.user_review\n",
    "    for i,ur in enumerate(test_user_review):\n",
    "        if not isinstance(ur,str):\n",
    "            print(i)\n",
    "    test_data = []\n",
    "    test_docs = nlp.pipe(test_user_review)\n",
    "    pbar = tqdm(total=len(test_user_review))\n",
    "    for i,doc in enumerate(test_docs):\n",
    "        doc_vec = []\n",
    "        for token in doc:\n",
    "            doc_vec.append(token.text)\n",
    "        test_data.append(doc_vec)\n",
    "        if i%1000 == 0  and i != 0:\n",
    "            pbar.update(1000)\n",
    "    pbar.close()\n",
    "    test_corpus = np.array([\" \".join(t) for t in test_data])\n",
    "    return test_corpus,test_corpus"
   ]
  },
  {
   "cell_type": "code",
   "execution_count": 16,
   "metadata": {},
   "outputs": [
    {
     "name": "stderr",
     "output_type": "stream",
     "text": [
      " 99%|█████████▉| 8000/8045 [02:30<00:00, 53.32it/s]\n"
     ]
    }
   ],
   "source": [
    "X_test_sub,test_corpus = test_cleaning_without_stop_removal(test)"
   ]
  },
  {
   "cell_type": "code",
   "execution_count": 11,
   "metadata": {},
   "outputs": [],
   "source": [
    "from sklearn.linear_model import LogisticRegression\n",
    "from sklearn.metrics import f1_score\n",
    "from sklearn.feature_extraction.text import TfidfVectorizer,CountVectorizer,TfidfTransformer\n",
    "from xgboost import XGBClassifier"
   ]
  },
  {
   "cell_type": "code",
   "execution_count": 17,
   "metadata": {},
   "outputs": [],
   "source": [
    "cv = CountVectorizer(ngram_range=(1,2))\n",
    "corpus = np.concatenate((corpus,test_corpus))\n",
    "full_corpus = cv.fit_transform(corpus)\n",
    "X_train_cv = cv.transform(X_train)\n",
    "X_test_cv = cv.transform(X_test_sub)\n",
    "lr = LogisticRegression(max_iter=800)\n",
    "lr.fit(X_train_cv,y_train)\n",
    "y_pred = lr.predict(X_test_cv)\n",
    "#Highest submission 85 with logistic regression"
   ]
  },
  {
   "cell_type": "code",
   "execution_count": 20,
   "metadata": {},
   "outputs": [],
   "source": [
    "sub = pd.DataFrame()\n",
    "sub['review_id'] = test.review_id\n",
    "sub['user_suggestion'] = y_pred\n",
    "sub.to_csv(\"submission_tfidf_stop.csv\",index=False)"
   ]
  },
  {
   "cell_type": "code",
   "execution_count": null,
   "metadata": {},
   "outputs": [],
   "source": []
  }
 ],
 "metadata": {
  "kernelspec": {
   "display_name": "Python 3",
   "language": "python",
   "name": "python3"
  },
  "language_info": {
   "codemirror_mode": {
    "name": "ipython",
    "version": 3
   },
   "file_extension": ".py",
   "mimetype": "text/x-python",
   "name": "python",
   "nbconvert_exporter": "python",
   "pygments_lexer": "ipython3",
   "version": "3.7.5"
  }
 },
 "nbformat": 4,
 "nbformat_minor": 4
}
