{
 "cells": [
  {
   "cell_type": "code",
   "execution_count": 1,
   "metadata": {},
   "outputs": [],
   "source": [
    "import spacy\n",
    "nlp = spacy.load(\"en_core_web_lg\")"
   ]
  },
  {
   "cell_type": "code",
   "execution_count": 34,
   "metadata": {},
   "outputs": [],
   "source": [
    "import pandas as pd\n",
    "import numpy as np\n",
    "from tqdm import tqdm"
   ]
  },
  {
   "cell_type": "code",
   "execution_count": 35,
   "metadata": {},
   "outputs": [],
   "source": [
    "train = pd.read_csv(\"latest_cleaned_data/train_lemmatized_withstop.csv\")\n",
    "train = train[~train['user_review'].isna()]\n",
    "train = train[train['user_review'] != ' ']"
   ]
  },
  {
   "cell_type": "code",
   "execution_count": 36,
   "metadata": {},
   "outputs": [],
   "source": [
    "user_review = train.user_review.values"
   ]
  },
  {
   "cell_type": "code",
   "execution_count": 37,
   "metadata": {},
   "outputs": [
    {
     "name": "stderr",
     "output_type": "stream",
     "text": [
      "18000it [01:54, 156.58it/s]                           \n"
     ]
    }
   ],
   "source": [
    "count = 0\n",
    "corpus_vec = np.zeros((len(user_review),300))\n",
    "docs = nlp.pipe(user_review, disable=['ner','tagger','parser'])\n",
    "pbar = tqdm(total = user_review.shape[0])\n",
    "for doc in docs:\n",
    "    sent_vec = []\n",
    "    for token in doc:\n",
    "        if token.has_vector:\n",
    "            sent_vec.append(list(token.vector))\n",
    "    sent_vec = np.array(sent_vec)\n",
    "    corpus_vec[count] = np.mean(sent_vec,axis=0)\n",
    "    if count%1000==0:\n",
    "        pbar.update(1000)\n",
    "    count+= 1\n",
    "pbar.close()"
   ]
  },
  {
   "cell_type": "code",
   "execution_count": 38,
   "metadata": {},
   "outputs": [
    {
     "data": {
      "text/plain": [
       "17471"
      ]
     },
     "execution_count": 38,
     "metadata": {},
     "output_type": "execute_result"
    }
   ],
   "source": [
    "len(corpus_vec)"
   ]
  },
  {
   "cell_type": "code",
   "execution_count": 40,
   "metadata": {},
   "outputs": [
    {
     "data": {
      "text/html": [
       "<div>\n",
       "<style scoped>\n",
       "    .dataframe tbody tr th:only-of-type {\n",
       "        vertical-align: middle;\n",
       "    }\n",
       "\n",
       "    .dataframe tbody tr th {\n",
       "        vertical-align: top;\n",
       "    }\n",
       "\n",
       "    .dataframe thead th {\n",
       "        text-align: right;\n",
       "    }\n",
       "</style>\n",
       "<table border=\"1\" class=\"dataframe\">\n",
       "  <thead>\n",
       "    <tr style=\"text-align: right;\">\n",
       "      <th></th>\n",
       "      <th>review_id</th>\n",
       "      <th>title</th>\n",
       "      <th>year</th>\n",
       "      <th>user_review</th>\n",
       "      <th>user_suggestion</th>\n",
       "    </tr>\n",
       "  </thead>\n",
       "  <tbody>\n",
       "    <tr>\n",
       "      <th>3980</th>\n",
       "      <td>4444</td>\n",
       "      <td>Team Fortress 2</td>\n",
       "      <td>2018.0</td>\n",
       "      <td>pootis pootis pootis pootis pootis pootis poot...</td>\n",
       "      <td>1</td>\n",
       "    </tr>\n",
       "    <tr>\n",
       "      <th>16701</th>\n",
       "      <td>24670</td>\n",
       "      <td>Bloons TD Battles</td>\n",
       "      <td>2017.0</td>\n",
       "      <td>poppoppoppoppoppoppoppoppoppoppoppoppoppoppopp...</td>\n",
       "      <td>1</td>\n",
       "    </tr>\n",
       "    <tr>\n",
       "      <th>12411</th>\n",
       "      <td>17908</td>\n",
       "      <td>RaceRoom Racing Experience</td>\n",
       "      <td>2014.0</td>\n",
       "      <td>vroooooooooooooooooooooooooooooooooooooooooooo...</td>\n",
       "      <td>1</td>\n",
       "    </tr>\n",
       "    <tr>\n",
       "      <th>77</th>\n",
       "      <td>78</td>\n",
       "      <td>Spooky's Jump Scare Mansion</td>\n",
       "      <td>2017.0</td>\n",
       "      <td>aaaaaaaaaaaaaaaaaaaaaaaaaaaaaaaaaaaaaaaaaaaaaa...</td>\n",
       "      <td>1</td>\n",
       "    </tr>\n",
       "    <tr>\n",
       "      <th>9600</th>\n",
       "      <td>13184</td>\n",
       "      <td>Realm of the Mad God</td>\n",
       "      <td>2014.0</td>\n",
       "      <td>yessssssssssssssssssssssssssssssssssssssssssss...</td>\n",
       "      <td>1</td>\n",
       "    </tr>\n",
       "    <tr>\n",
       "      <th>9444</th>\n",
       "      <td>13028</td>\n",
       "      <td>Realm of the Mad God</td>\n",
       "      <td>2013.0</td>\n",
       "      <td>gooooooooooooooooooooooooooooooooooooooooooooo...</td>\n",
       "      <td>1</td>\n",
       "    </tr>\n",
       "    <tr>\n",
       "      <th>16747</th>\n",
       "      <td>24716</td>\n",
       "      <td>Bloons TD Battles</td>\n",
       "      <td>2018.0</td>\n",
       "      <td>baaaaaaaaaaaaaaaaaaaaaaaaaaaaaaaaaaaaaaaaaaaaa...</td>\n",
       "      <td>0</td>\n",
       "    </tr>\n",
       "    <tr>\n",
       "      <th>12617</th>\n",
       "      <td>18114</td>\n",
       "      <td>RaceRoom Racing Experience</td>\n",
       "      <td>2014.0</td>\n",
       "      <td>freefreefreefreefreefreefreefreefreefreefreefr...</td>\n",
       "      <td>1</td>\n",
       "    </tr>\n",
       "    <tr>\n",
       "      <th>449</th>\n",
       "      <td>450</td>\n",
       "      <td>Sakura Clicker</td>\n",
       "      <td>2017.0</td>\n",
       "      <td>aaaaaaaaaaaaaaaaaaaaaaaaaaaaaaaaaaaaaaaaaaaaaa...</td>\n",
       "      <td>1</td>\n",
       "    </tr>\n",
       "  </tbody>\n",
       "</table>\n",
       "</div>"
      ],
      "text/plain": [
       "       review_id                        title    year  \\\n",
       "3980        4444              Team Fortress 2  2018.0   \n",
       "16701      24670            Bloons TD Battles  2017.0   \n",
       "12411      17908   RaceRoom Racing Experience  2014.0   \n",
       "77            78  Spooky's Jump Scare Mansion  2017.0   \n",
       "9600       13184         Realm of the Mad God  2014.0   \n",
       "9444       13028         Realm of the Mad God  2013.0   \n",
       "16747      24716            Bloons TD Battles  2018.0   \n",
       "12617      18114   RaceRoom Racing Experience  2014.0   \n",
       "449          450               Sakura Clicker  2017.0   \n",
       "\n",
       "                                             user_review  user_suggestion  \n",
       "3980   pootis pootis pootis pootis pootis pootis poot...                1  \n",
       "16701  poppoppoppoppoppoppoppoppoppoppoppoppoppoppopp...                1  \n",
       "12411  vroooooooooooooooooooooooooooooooooooooooooooo...                1  \n",
       "77     aaaaaaaaaaaaaaaaaaaaaaaaaaaaaaaaaaaaaaaaaaaaaa...                1  \n",
       "9600   yessssssssssssssssssssssssssssssssssssssssssss...                1  \n",
       "9444   gooooooooooooooooooooooooooooooooooooooooooooo...                1  \n",
       "16747  baaaaaaaaaaaaaaaaaaaaaaaaaaaaaaaaaaaaaaaaaaaaa...                0  \n",
       "12617  freefreefreefreefreefreefreefreefreefreefreefr...                1  \n",
       "449    aaaaaaaaaaaaaaaaaaaaaaaaaaaaaaaaaaaaaaaaaaaaaa...                1  "
      ]
     },
     "execution_count": 40,
     "metadata": {},
     "output_type": "execute_result"
    }
   ],
   "source": [
    "D = np.argwhere(np.isnan(corpus_vec))\n",
    "idx = list(set(D[:,0]))\n",
    "train.iloc[idx,:]"
   ]
  },
  {
   "cell_type": "code",
   "execution_count": 42,
   "metadata": {},
   "outputs": [
    {
     "name": "stdout",
     "output_type": "stream",
     "text": [
      "(17471, 5)\n",
      "(17471, 300)\n"
     ]
    }
   ],
   "source": [
    "print(train.shape)\n",
    "print(corpus_vec.shape)"
   ]
  },
  {
   "cell_type": "code",
   "execution_count": 43,
   "metadata": {},
   "outputs": [],
   "source": [
    "train = train.drop(index=idx) #Deleting from dataframe\n",
    "corpus_vec = np.delete(corpus_vec,idx,axis=0) #Deleting embeddings"
   ]
  },
  {
   "cell_type": "code",
   "execution_count": 44,
   "metadata": {},
   "outputs": [
    {
     "name": "stdout",
     "output_type": "stream",
     "text": [
      "(17462, 5)\n",
      "(17462, 300)\n"
     ]
    }
   ],
   "source": [
    "print(train.shape)\n",
    "print(corpus_vec.shape)"
   ]
  },
  {
   "cell_type": "markdown",
   "metadata": {},
   "source": [
    "## Embeddings Generated Machine Learning"
   ]
  },
  {
   "cell_type": "code",
   "execution_count": 59,
   "metadata": {},
   "outputs": [],
   "source": [
    "from sklearn.model_selection import train_test_split\n",
    "from sklearn.metrics import confusion_matrix\n",
    "from sklearn.linear_model import LogisticRegression\n",
    "from sklearn.metrics import f1_score"
   ]
  },
  {
   "cell_type": "code",
   "execution_count": 60,
   "metadata": {},
   "outputs": [
    {
     "data": {
      "text/plain": [
       "((12223, 300), (12223,), (5239, 300), (5239,))"
      ]
     },
     "execution_count": 60,
     "metadata": {},
     "output_type": "execute_result"
    }
   ],
   "source": [
    "X_train,X_test,y_train,y_test = train_test_split(corpus_vec,train.user_suggestion.values,stratify=train.user_suggestion.values,test_size=0.3)\n",
    "X_train.shape,y_train.shape,X_test.shape,y_test.shape"
   ]
  },
  {
   "cell_type": "code",
   "execution_count": 64,
   "metadata": {},
   "outputs": [
    {
     "name": "stdout",
     "output_type": "stream",
     "text": [
      "0.8409090909090909\n"
     ]
    },
    {
     "data": {
      "text/plain": [
       "array([[1720,  535],\n",
       "       [ 431, 2553]])"
      ]
     },
     "execution_count": 64,
     "metadata": {},
     "output_type": "execute_result"
    }
   ],
   "source": [
    "lr = LogisticRegression(max_iter=500)\n",
    "lr.fit(X_train,y_train)\n",
    "y_pred = lr.predict(X_test)\n",
    "print(f1_score(y_test,y_pred))\n",
    "confusion_matrix(y_test,y_pred)"
   ]
  },
  {
   "cell_type": "markdown",
   "metadata": {},
   "source": [
    "## Summation of Embeddings"
   ]
  },
  {
   "cell_type": "code",
   "execution_count": null,
   "metadata": {},
   "outputs": [],
   "source": []
  }
 ],
 "metadata": {
  "kernelspec": {
   "display_name": "Python 3",
   "language": "python",
   "name": "python3"
  },
  "language_info": {
   "codemirror_mode": {
    "name": "ipython",
    "version": 3
   },
   "file_extension": ".py",
   "mimetype": "text/x-python",
   "name": "python",
   "nbconvert_exporter": "python",
   "pygments_lexer": "ipython3",
   "version": "3.7.5"
  }
 },
 "nbformat": 4,
 "nbformat_minor": 4
}
