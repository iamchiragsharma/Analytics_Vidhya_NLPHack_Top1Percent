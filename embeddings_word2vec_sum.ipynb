{
 "cells": [
  {
   "cell_type": "code",
   "execution_count": 1,
   "metadata": {},
   "outputs": [],
   "source": [
    "import spacy\n",
    "nlp = spacy.load(\"en_core_web_lg\")\n",
    "import pandas as pd\n",
    "import numpy as np\n",
    "from tqdm import tqdm"
   ]
  },
  {
   "cell_type": "code",
   "execution_count": 2,
   "metadata": {},
   "outputs": [],
   "source": [
    "from sklearn.model_selection import train_test_split,KFold\n",
    "from sklearn.metrics import confusion_matrix\n",
    "from sklearn.linear_model import LogisticRegression\n",
    "from sklearn.metrics import f1_score"
   ]
  },
  {
   "cell_type": "code",
   "execution_count": 3,
   "metadata": {},
   "outputs": [
    {
     "name": "stdout",
     "output_type": "stream",
     "text": [
      "ORIGINAL SHAPE (17471, 5)\n"
     ]
    }
   ],
   "source": [
    "train = pd.read_csv(\"latest_cleaned_data/train_lemmatized_withstop.csv\")\n",
    "train = train[~train['user_review'].isna()]\n",
    "train = train[train['user_review'] != ' ']\n",
    "print(\"ORIGINAL SHAPE\", train.shape)"
   ]
  },
  {
   "cell_type": "code",
   "execution_count": 4,
   "metadata": {},
   "outputs": [
    {
     "name": "stderr",
     "output_type": "stream",
     "text": [
      "18000it [02:16, 132.19it/s]                           \n"
     ]
    }
   ],
   "source": [
    "user_review = train.user_review.values\n",
    "count = 0\n",
    "corpus_vec = np.zeros((len(user_review),300))\n",
    "docs = nlp.pipe(user_review, disable=['ner','tagger','parser'])\n",
    "pbar = tqdm(total = user_review.shape[0])\n",
    "for doc in docs:\n",
    "    sent_vec = []\n",
    "    for token in doc:\n",
    "        if token.has_vector:\n",
    "            sent_vec.append(list(token.vector))\n",
    "    sent_vec = np.array(sent_vec)\n",
    "    corpus_vec[count] = np.sum(sent_vec,axis=0)\n",
    "    if count%1000==0:\n",
    "        pbar.update(1000)\n",
    "    count+= 1\n",
    "pbar.close()"
   ]
  },
  {
   "cell_type": "markdown",
   "metadata": {},
   "source": [
    "## SVD and Xgboost with Embeddings"
   ]
  },
  {
   "cell_type": "code",
   "execution_count": 5,
   "metadata": {},
   "outputs": [
    {
     "data": {
      "text/html": [
       "<div>\n",
       "<style scoped>\n",
       "    .dataframe tbody tr th:only-of-type {\n",
       "        vertical-align: middle;\n",
       "    }\n",
       "\n",
       "    .dataframe tbody tr th {\n",
       "        vertical-align: top;\n",
       "    }\n",
       "\n",
       "    .dataframe thead th {\n",
       "        text-align: right;\n",
       "    }\n",
       "</style>\n",
       "<table border=\"1\" class=\"dataframe\">\n",
       "  <thead>\n",
       "    <tr style=\"text-align: right;\">\n",
       "      <th></th>\n",
       "      <th>review_id</th>\n",
       "      <th>title</th>\n",
       "      <th>year</th>\n",
       "      <th>user_review</th>\n",
       "      <th>user_suggestion</th>\n",
       "    </tr>\n",
       "  </thead>\n",
       "  <tbody>\n",
       "  </tbody>\n",
       "</table>\n",
       "</div>"
      ],
      "text/plain": [
       "Empty DataFrame\n",
       "Columns: [review_id, title, year, user_review, user_suggestion]\n",
       "Index: []"
      ]
     },
     "execution_count": 5,
     "metadata": {},
     "output_type": "execute_result"
    }
   ],
   "source": [
    "D = np.argwhere(np.isnan(corpus_vec))\n",
    "idx = list(set(D[:,0]))\n",
    "train.iloc[idx,:]"
   ]
  },
  {
   "cell_type": "code",
   "execution_count": null,
   "metadata": {},
   "outputs": [],
   "source": [
    "kf = KFold(n_splits=5,shuffle=True)\n",
    "for train_idx,test_idx in kf.split(corpus_vec):\n",
    "    X_train,y_train = corpus_vec[train_idx],train.user_suggestion.values[train_idx]\n",
    "    X_test,y_test = corpus_vec[test_idx],train.user_suggestion.values[test_idx]\n",
    "    lr = LogisticRegression(max_iter=1000)\n",
    "    lr.fit(X_train,y_train)\n",
    "    y_pred = lr.predict(X_test)\n",
    "    print(f1_score(y_test,y_pred))"
   ]
  },
  {
   "cell_type": "code",
   "execution_count": null,
   "metadata": {},
   "outputs": [],
   "source": [
    "from sklearn.svm import SVC\n",
    "kf = KFold(n_splits=5,shuffle=True)\n",
    "for train_idx,test_idx in kf.split(corpus_vec):\n",
    "    X_train,y_train = corpus_vec[train_idx],train.user_suggestion.values[train_idx]\n",
    "    X_test,y_test = corpus_vec[test_idx],train.user_suggestion.values[test_idx]\n",
    "    lr = SVC(kernel='linear')\n",
    "    lr.fit(X_train,y_train)\n",
    "    y_pred = lr.predict(X_test)\n",
    "    print(f1_score(y_test,y_pred))"
   ]
  },
  {
   "cell_type": "code",
   "execution_count": null,
   "metadata": {},
   "outputs": [],
   "source": [
    "from xgboost import XGBClassifier\n",
    "for train_idx,test_idx in kf.split(corpus_vec):\n",
    "    X_train,y_train = corpus_vec[train_idx],train.user_suggestion.values[train_idx]\n",
    "    X_test,y_test = corpus_vec[test_idx],train.user_suggestion.values[test_idx]\n",
    "    lr = XGBClassifier()\n",
    "    lr.fit(X_train,y_train)\n",
    "    y_pred = lr.predict(X_test)\n",
    "    print(f1_score(y_test,y_pred))"
   ]
  },
  {
   "cell_type": "markdown",
   "metadata": {},
   "source": [
    "## NN with Embeddings"
   ]
  },
  {
   "cell_type": "code",
   "execution_count": null,
   "metadata": {},
   "outputs": [],
   "source": [
    "import torch\n",
    "import torch.nn as nn\n",
    "import torch.optim as optim\n",
    "from torch.utils.data import Dataset, DataLoader, TensorDataset\n",
    "from sklearn.preprocessing import StandardScaler"
   ]
  },
  {
   "cell_type": "code",
   "execution_count": null,
   "metadata": {},
   "outputs": [],
   "source": [
    "X_train,X_test,y_train,y_test = train_test_split(corpus_vec,train.user_suggestion.values,stratify=train.user_suggestion.values,test_size=0.3)\n",
    "X_train = StandardScaler().fit_transform(X_train)\n",
    "X_test = StandardScaler().fit_transform(X_test)"
   ]
  },
  {
   "cell_type": "code",
   "execution_count": null,
   "metadata": {},
   "outputs": [],
   "source": [
    "X_train.shape,y_train.shape,X_test.shape,y_test.shape\n",
    "X_train = torch.from_numpy(X_train).type(torch.FloatTensor)\n",
    "X_test = torch.from_numpy(X_test).type(torch.FloatTensor)\n",
    "y_train = torch.from_numpy(y_train).type(torch.IntTensor)\n",
    "y_test = torch.from_numpy(y_test).type(torch.IntTensor)"
   ]
  },
  {
   "cell_type": "code",
   "execution_count": null,
   "metadata": {},
   "outputs": [],
   "source": [
    "EPOCHS = 50\n",
    "BATCH_SIZE = 64\n",
    "LEARNING_RATE = 0.001"
   ]
  },
  {
   "cell_type": "code",
   "execution_count": null,
   "metadata": {},
   "outputs": [],
   "source": [
    "train_dataset = TensorDataset(X_train,y_train)\n",
    "train_dataloader = DataLoader(train_dataset,batch_size=64)\n",
    "test_dataset = TensorDataset(X_test,y_test)\n",
    "test_dataloader = DataLoader(test_dataset,batch_size=64)"
   ]
  },
  {
   "cell_type": "code",
   "execution_count": null,
   "metadata": {},
   "outputs": [],
   "source": [
    "class BuyorNot(nn.Module):\n",
    "    def __init__(self):\n",
    "        super(BuyorNot,self).__init__()\n",
    "        \n",
    "        self.fc1 = nn.Linear(300,600)\n",
    "        self.bn1 = nn.BatchNorm1d(num_features=600)\n",
    "        self.fc2 = nn.Linear(600,600)\n",
    "        self.bn2 = nn.BatchNorm1d(num_features=600)\n",
    "        self.fc3 = nn.Linear(600,300)\n",
    "        self.bn3 = nn.BatchNorm1d(num_features=300)\n",
    "        self.fc4 = nn.Linear(300,64)\n",
    "        self.bn4 = nn.BatchNorm1d(num_features=64)\n",
    "        self.out = nn.Linear(64,1)\n",
    "        self.relu = nn.ReLU()\n",
    "        self.dropout = nn.Dropout(p=0.2)\n",
    "        \n",
    "    def forward(self, inputs):\n",
    "        x = self.relu(self.bn1(self.fc1(inputs)))\n",
    "        x = self.dropout(x)\n",
    "        x = self.relu(self.bn2(self.fc2(x)))\n",
    "        x = self.dropout(x)\n",
    "        x = self.relu(self.bn3(self.fc3(x)))\n",
    "        x = self.dropout(x)\n",
    "        x = self.relu(self.bn4(self.fc4(x)))\n",
    "        x = self.dropout(x)\n",
    "        x = self.out(x)\n",
    "        \n",
    "        return x"
   ]
  },
  {
   "cell_type": "code",
   "execution_count": null,
   "metadata": {},
   "outputs": [],
   "source": [
    "device = torch.device(\"cuda:0\" if torch.cuda.is_available() else \"cpu\")\n",
    "print(device)"
   ]
  },
  {
   "cell_type": "code",
   "execution_count": null,
   "metadata": {},
   "outputs": [],
   "source": [
    "model = BuyorNot()\n",
    "model.to(device)\n",
    "print(model)\n",
    "criterion = nn.BCELoss()\n",
    "optimizer = optim.Adam(model.parameters(), lr=LEARNING_RATE)"
   ]
  },
  {
   "cell_type": "code",
   "execution_count": null,
   "metadata": {},
   "outputs": [],
   "source": [
    "testing_x,testing_label = next(iter(train_dataloader))"
   ]
  },
  {
   "cell_type": "code",
   "execution_count": null,
   "metadata": {},
   "outputs": [],
   "source": [
    "from sklearn.metrics import f1_score\n",
    "def f1_score_torch(y_true,y_pred):\n",
    "    y_true_numpy = y_true.detach().cpu().numpy().astype(int)\n",
    "    y_pred_numpy = y_pred.detach().cpu().numpy().astype(int)\n",
    "    score = f1_score(y_true_numpy,y_pred_numpy)\n",
    "    return score"
   ]
  },
  {
   "cell_type": "code",
   "execution_count": null,
   "metadata": {},
   "outputs": [],
   "source": [
    "for e in range(EPOCHS):\n",
    "    model.train()\n",
    "    epoch_loss = 0\n",
    "    f1_score_ = 0\n",
    "    for X_train,y_train in train_dataloader:\n",
    "        X_train,y_train = X_train.to(device),y_train.to(device)\n",
    "        optimizer.zero_grad()\n",
    "        y_pred = model(X_train)\n",
    "        y_pred_labels = (y_pred>0.5).float()\n",
    "        loss = criterion(y_pred, y_train.unsqueeze(1).float())\n",
    "        loss.backward()\n",
    "        f1_score_ += f1_score_torch(y_train, y_pred_labels.squeeze(1))\n",
    "        epoch_loss += loss.item()\n",
    "    print(\"EPOCH {} LOSS {:.5f} F1 {:.5f}\".format(e,epoch_loss/len(train_dataloader),f1_score_/len(train_dataloader)))"
   ]
  },
  {
   "cell_type": "code",
   "execution_count": null,
   "metadata": {},
   "outputs": [],
   "source": []
  }
 ],
 "metadata": {
  "kernelspec": {
   "display_name": "Python 3",
   "language": "python",
   "name": "python3"
  },
  "language_info": {
   "codemirror_mode": {
    "name": "ipython",
    "version": 3
   },
   "file_extension": ".py",
   "mimetype": "text/x-python",
   "name": "python",
   "nbconvert_exporter": "python",
   "pygments_lexer": "ipython3",
   "version": "3.7.5"
  }
 },
 "nbformat": 4,
 "nbformat_minor": 4
}
