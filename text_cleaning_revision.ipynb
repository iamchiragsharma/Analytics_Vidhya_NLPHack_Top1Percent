{
 "cells": [
  {
   "cell_type": "code",
   "execution_count": 1,
   "metadata": {},
   "outputs": [],
   "source": [
    "import numpy as np\n",
    "import pandas as pd\n",
    "import spacy\n",
    "import re\n",
    "import data_utils"
   ]
  },
  {
   "cell_type": "code",
   "execution_count": 2,
   "metadata": {},
   "outputs": [],
   "source": [
    "nlp = spacy.load(\"en_core_web_lg\")"
   ]
  },
  {
   "cell_type": "code",
   "execution_count": 3,
   "metadata": {},
   "outputs": [],
   "source": [
    "train = pd.read_csv(\"train_data/train.csv\")\n",
    "corpus = list(train['user_review'].values)"
   ]
  },
  {
   "cell_type": "code",
   "execution_count": 5,
   "metadata": {},
   "outputs": [
    {
     "data": {
      "text/html": [
       "<div>\n",
       "<style scoped>\n",
       "    .dataframe tbody tr th:only-of-type {\n",
       "        vertical-align: middle;\n",
       "    }\n",
       "\n",
       "    .dataframe tbody tr th {\n",
       "        vertical-align: top;\n",
       "    }\n",
       "\n",
       "    .dataframe thead th {\n",
       "        text-align: right;\n",
       "    }\n",
       "</style>\n",
       "<table border=\"1\" class=\"dataframe\">\n",
       "  <thead>\n",
       "    <tr style=\"text-align: right;\">\n",
       "      <th></th>\n",
       "      <th>review_id</th>\n",
       "      <th>title</th>\n",
       "      <th>year</th>\n",
       "      <th>user_review</th>\n",
       "      <th>user_suggestion</th>\n",
       "    </tr>\n",
       "  </thead>\n",
       "  <tbody>\n",
       "    <tr>\n",
       "      <th>0</th>\n",
       "      <td>1</td>\n",
       "      <td>Spooky's Jump Scare Mansion</td>\n",
       "      <td>2016.0</td>\n",
       "      <td>I'm scared and hearing creepy voices.  So I'll...</td>\n",
       "      <td>1</td>\n",
       "    </tr>\n",
       "    <tr>\n",
       "      <th>1</th>\n",
       "      <td>2</td>\n",
       "      <td>Spooky's Jump Scare Mansion</td>\n",
       "      <td>2016.0</td>\n",
       "      <td>Best game, more better than Sam Pepper's YouTu...</td>\n",
       "      <td>1</td>\n",
       "    </tr>\n",
       "    <tr>\n",
       "      <th>2</th>\n",
       "      <td>3</td>\n",
       "      <td>Spooky's Jump Scare Mansion</td>\n",
       "      <td>2016.0</td>\n",
       "      <td>A littly iffy on the controls, but once you kn...</td>\n",
       "      <td>1</td>\n",
       "    </tr>\n",
       "    <tr>\n",
       "      <th>3</th>\n",
       "      <td>4</td>\n",
       "      <td>Spooky's Jump Scare Mansion</td>\n",
       "      <td>2015.0</td>\n",
       "      <td>Great game, fun and colorful and all that.A si...</td>\n",
       "      <td>1</td>\n",
       "    </tr>\n",
       "    <tr>\n",
       "      <th>4</th>\n",
       "      <td>5</td>\n",
       "      <td>Spooky's Jump Scare Mansion</td>\n",
       "      <td>2015.0</td>\n",
       "      <td>Not many games have the cute tag right next to...</td>\n",
       "      <td>1</td>\n",
       "    </tr>\n",
       "  </tbody>\n",
       "</table>\n",
       "</div>"
      ],
      "text/plain": [
       "   review_id                        title    year  \\\n",
       "0          1  Spooky's Jump Scare Mansion  2016.0   \n",
       "1          2  Spooky's Jump Scare Mansion  2016.0   \n",
       "2          3  Spooky's Jump Scare Mansion  2016.0   \n",
       "3          4  Spooky's Jump Scare Mansion  2015.0   \n",
       "4          5  Spooky's Jump Scare Mansion  2015.0   \n",
       "\n",
       "                                         user_review  user_suggestion  \n",
       "0  I'm scared and hearing creepy voices.  So I'll...                1  \n",
       "1  Best game, more better than Sam Pepper's YouTu...                1  \n",
       "2  A littly iffy on the controls, but once you kn...                1  \n",
       "3  Great game, fun and colorful and all that.A si...                1  \n",
       "4  Not many games have the cute tag right next to...                1  "
      ]
     },
     "execution_count": 5,
     "metadata": {},
     "output_type": "execute_result"
    }
   ],
   "source": [
    "train.head()"
   ]
  },
  {
   "cell_type": "code",
   "execution_count": 130,
   "metadata": {},
   "outputs": [],
   "source": [
    "text_sent = [data_utils.expand_contractions(sent) for sent in corpus]\n",
    "text_sent = [re.sub(\"http[s]*://[^\\s]+\",\" \",text) for text in text_sent]\n",
    "text_sent = [data_utils.remove_accented_chars(sent) for sent in text_sent]\n",
    "text_sent = [re.sub(\"[-!\\\"#$%&'()*+,./:;<=>?@\\][^_`|}{~']\",\" \",text) for text in text_sent]\n",
    "text_sent = [text.replace(\"\\\\\",\" \") for text in text_sent]\n",
    "text_sent = [re.sub(r'\\s+', ' ',sent) for sent in text_sent]\n",
    "text_sent = list(map(str.lower,text_sent))\n",
    "docs = nlp.pipe(text_sent,disable=[\"ner\",\"parser\"])\n",
    "cleaned_corpus = []\n",
    "for doc in docs:\n",
    "    doc_text = []\n",
    "    for token in doc:\n",
    "        if token.lemma_ != '-PRON-':\n",
    "            doc_text.append(token.lemma_)\n",
    "        else:\n",
    "            doc_text.append(token.text)\n",
    "    cleaned_corpus.append(doc_text)\n",
    "cleaned_corpus = [\" \".join(cleaned_text) for cleaned_text in cleaned_corpus]\n",
    "\n",
    "def give_train_clean():\n",
    "    for i in range(train.shape[0]):\n",
    "        yield[train.user_review.values[i],cleaned_corpus[i]]\n",
    "gtc = give_train_clean()"
   ]
  },
  {
   "cell_type": "code",
   "execution_count": 205,
   "metadata": {},
   "outputs": [
    {
     "name": "stdout",
     "output_type": "stream",
     "text": [
      "---------------------ORIGINAL---------------------\n",
      "Best game, more better than Sam Pepper's YouTube account. 10/10What you'll need to play:A computerSome extra pants.Pros:Scary as hell.Fun.Adventure.Spooky.Did I forgot to mention that its scary as hell?You'll get more pants/briefs in your wardrobe.Time consuming if you're bored.Cons:Buying pants/briefs. You haven't downloaded it yet.\n",
      "--------------------------------------------------\n",
      "\n",
      "---------------------CLEANED----------------------\n",
      "good game more well than sam peppers youtube account 10 10what you will need to play a computersome extra pant pro scary as hell fun adventure spooky do i forget to mention that its scary as hell you will get more pant brief in your wardrobe time consume if you be bored con buy pant brief you have not download it yet\n",
      "--------------------------------------------------\n"
     ]
    }
   ],
   "source": [
    "vals = next(gtc)\n",
    "print(\"{:-^50}\".format(\"ORIGINAL\"))\n",
    "print(vals[0])\n",
    "print(\"{:-^50}\".format(\"\"))\n",
    "print(\"\")\n",
    "print(\"{:-^50}\".format(\"CLEANED\"))\n",
    "print(vals[1])\n",
    "print(\"{:-^50}\".format(\"\"))"
   ]
  },
  {
   "cell_type": "code",
   "execution_count": 200,
   "metadata": {},
   "outputs": [],
   "source": [
    "final_frame = train.copy()\n",
    "final_frame['user_review'] = cleaned_corpus"
   ]
  },
  {
   "cell_type": "code",
   "execution_count": 204,
   "metadata": {},
   "outputs": [],
   "source": [
    "final_frame.to_csv(\"latest_cleaned_data/train_lemmatized_withstop.csv\",index=False)"
   ]
  },
  {
   "cell_type": "code",
   "execution_count": 206,
   "metadata": {},
   "outputs": [
    {
     "data": {
      "text/plain": [
       "'OVERVIEW CLEANING'"
      ]
     },
     "execution_count": 206,
     "metadata": {},
     "output_type": "execute_result"
    }
   ],
   "source": [
    "\"\"\"OVERVIEW CLEANING\"\"\""
   ]
  },
  {
   "cell_type": "code",
   "execution_count": 207,
   "metadata": {},
   "outputs": [
    {
     "data": {
      "text/html": [
       "<div>\n",
       "<style scoped>\n",
       "    .dataframe tbody tr th:only-of-type {\n",
       "        vertical-align: middle;\n",
       "    }\n",
       "\n",
       "    .dataframe tbody tr th {\n",
       "        vertical-align: top;\n",
       "    }\n",
       "\n",
       "    .dataframe thead th {\n",
       "        text-align: right;\n",
       "    }\n",
       "</style>\n",
       "<table border=\"1\" class=\"dataframe\">\n",
       "  <thead>\n",
       "    <tr style=\"text-align: right;\">\n",
       "      <th></th>\n",
       "      <th>title</th>\n",
       "      <th>developer</th>\n",
       "      <th>publisher</th>\n",
       "      <th>tags</th>\n",
       "      <th>overview</th>\n",
       "    </tr>\n",
       "  </thead>\n",
       "  <tbody>\n",
       "    <tr>\n",
       "      <th>0</th>\n",
       "      <td>Spooky's Jump Scare Mansion</td>\n",
       "      <td>Lag Studios</td>\n",
       "      <td>Lag Studios</td>\n",
       "      <td>['Horror', 'Free to Play', 'Cute', 'First-Pers...</td>\n",
       "      <td>Can you survive 1000 rooms of cute terror? Or ...</td>\n",
       "    </tr>\n",
       "    <tr>\n",
       "      <th>1</th>\n",
       "      <td>Sakura Clicker</td>\n",
       "      <td>Winged Cloud</td>\n",
       "      <td>Winged Cloud</td>\n",
       "      <td>['Nudity', 'Anime', 'Free to Play', 'Mature', ...</td>\n",
       "      <td>The latest entry in the Sakura series is more ...</td>\n",
       "    </tr>\n",
       "    <tr>\n",
       "      <th>2</th>\n",
       "      <td>WARMODE</td>\n",
       "      <td>WARTEAM</td>\n",
       "      <td>WARTEAM</td>\n",
       "      <td>['Early Access', 'Free to Play', 'FPS', 'Multi...</td>\n",
       "      <td>Free to play shooter about the confrontation o...</td>\n",
       "    </tr>\n",
       "    <tr>\n",
       "      <th>3</th>\n",
       "      <td>Fractured Space</td>\n",
       "      <td>Edge Case Games Ltd.</td>\n",
       "      <td>Edge Case Games Ltd.</td>\n",
       "      <td>['Space', 'Multiplayer', 'Free to Play', 'PvP'...</td>\n",
       "      <td>Take the helm of a gigantic capital ship and g...</td>\n",
       "    </tr>\n",
       "    <tr>\n",
       "      <th>4</th>\n",
       "      <td>Counter-Strike: Global Offensive</td>\n",
       "      <td>Valve, Hidden Path Entertainment</td>\n",
       "      <td>Valve</td>\n",
       "      <td>['FPS', 'Multiplayer', 'Shooter', 'Action', 'T...</td>\n",
       "      <td>Counter-Strike: Global Offensive (CS: GO) expa...</td>\n",
       "    </tr>\n",
       "  </tbody>\n",
       "</table>\n",
       "</div>"
      ],
      "text/plain": [
       "                              title                          developer  \\\n",
       "0       Spooky's Jump Scare Mansion                       Lag Studios    \n",
       "1                    Sakura Clicker                      Winged Cloud    \n",
       "2                           WARMODE                           WARTEAM    \n",
       "3                   Fractured Space              Edge Case Games Ltd.    \n",
       "4  Counter-Strike: Global Offensive  Valve, Hidden Path Entertainment    \n",
       "\n",
       "               publisher                                               tags  \\\n",
       "0           Lag Studios   ['Horror', 'Free to Play', 'Cute', 'First-Pers...   \n",
       "1          Winged Cloud   ['Nudity', 'Anime', 'Free to Play', 'Mature', ...   \n",
       "2               WARTEAM   ['Early Access', 'Free to Play', 'FPS', 'Multi...   \n",
       "3  Edge Case Games Ltd.   ['Space', 'Multiplayer', 'Free to Play', 'PvP'...   \n",
       "4                 Valve   ['FPS', 'Multiplayer', 'Shooter', 'Action', 'T...   \n",
       "\n",
       "                                            overview  \n",
       "0  Can you survive 1000 rooms of cute terror? Or ...  \n",
       "1  The latest entry in the Sakura series is more ...  \n",
       "2  Free to play shooter about the confrontation o...  \n",
       "3  Take the helm of a gigantic capital ship and g...  \n",
       "4  Counter-Strike: Global Offensive (CS: GO) expa...  "
      ]
     },
     "execution_count": 207,
     "metadata": {},
     "output_type": "execute_result"
    }
   ],
   "source": [
    "overview = pd.read_csv(\"train_data/game_overview.csv\")\n",
    "overview.head()"
   ]
  },
  {
   "cell_type": "code",
   "execution_count": 209,
   "metadata": {},
   "outputs": [],
   "source": [
    "corpus = list(overview['overview'].values)\n",
    "text_sent = [data_utils.expand_contractions(sent) for sent in corpus]\n",
    "text_sent = [re.sub(\"http[s]*://[^\\s]+\",\" \",text) for text in text_sent]\n",
    "text_sent = [data_utils.remove_accented_chars(sent) for sent in text_sent]\n",
    "text_sent = [re.sub(\"[-!\\\"#$%&'()*+,./:;<=>?@\\][^_`|}{~']\",\" \",text) for text in text_sent]\n",
    "text_sent = [text.replace(\"\\\\\",\" \") for text in text_sent]\n",
    "text_sent = [re.sub(r'\\s+', ' ',sent) for sent in text_sent]\n",
    "text_sent = list(map(str.lower,text_sent))\n",
    "docs = nlp.pipe(text_sent,disable=[\"ner\",\"parser\"])\n",
    "cleaned_corpus = []\n",
    "for doc in docs:\n",
    "    doc_text = []\n",
    "    for token in doc:\n",
    "        if token.lemma_ != '-PRON-':\n",
    "            doc_text.append(token.lemma_)\n",
    "        else:\n",
    "            doc_text.append(token.text)\n",
    "    cleaned_corpus.append(doc_text)\n",
    "cleaned_corpus = [\" \".join(cleaned_text) for cleaned_text in cleaned_corpus]\n",
    "\n",
    "def give_train_clean():\n",
    "    for i in range(overview.shape[0]):\n",
    "        yield[overview.overview.values[i],cleaned_corpus[i]]\n",
    "gtc = give_train_clean()"
   ]
  },
  {
   "cell_type": "code",
   "execution_count": 210,
   "metadata": {},
   "outputs": [
    {
     "name": "stdout",
     "output_type": "stream",
     "text": [
      "---------------------ORIGINAL---------------------\n",
      "Can you survive 1000 rooms of cute terror? Or will you break once the cuteness starts to fade off and you're running for your life from the unspeakable hideous beings that shake and writhe in bowels of this house? They wait for you, they wait and hunger for meeting you. They long to finally meet you and show you how flexible your skin can be after it has soaked in blood. Will you brave this journey, will you set to beat the impossible, the insane, and the incorporeal?\n",
      "--------------------------------------------------\n",
      "\n",
      "---------------------CLEANED----------------------\n",
      "can you survive 1000 room of cute terror or will you break once the cuteness start to fade off and you be run for your life from the unspeakable hideous being that shake and writhe in bowel of this house they wait for you they wait and hunger for meet you they long to finally meet you and show you how flexible your skin can be after it have soak in blood will you brave this journey will you set to beat the impossible the insane and the incorporeal\n",
      "--------------------------------------------------\n"
     ]
    }
   ],
   "source": [
    "vals = next(gtc)\n",
    "print(\"{:-^50}\".format(\"ORIGINAL\"))\n",
    "print(vals[0])\n",
    "print(\"{:-^50}\".format(\"\"))\n",
    "print(\"\")\n",
    "print(\"{:-^50}\".format(\"CLEANED\"))\n",
    "print(vals[1])\n",
    "print(\"{:-^50}\".format(\"\"))"
   ]
  },
  {
   "cell_type": "code",
   "execution_count": 211,
   "metadata": {},
   "outputs": [],
   "source": [
    "final_frame = overview.copy()\n",
    "final_frame['overview'] = cleaned_corpus\n",
    "final_frame.to_csv(\"latest_cleaned_data/overview_lemmatized_withstop.csv\",index=False)"
   ]
  },
  {
   "cell_type": "code",
   "execution_count": 212,
   "metadata": {},
   "outputs": [
    {
     "data": {
      "text/plain": [
       "'TEST DATA'"
      ]
     },
     "execution_count": 212,
     "metadata": {},
     "output_type": "execute_result"
    }
   ],
   "source": [
    "\"\"\"TEST DATA\"\"\""
   ]
  },
  {
   "cell_type": "code",
   "execution_count": 213,
   "metadata": {},
   "outputs": [
    {
     "data": {
      "text/html": [
       "<div>\n",
       "<style scoped>\n",
       "    .dataframe tbody tr th:only-of-type {\n",
       "        vertical-align: middle;\n",
       "    }\n",
       "\n",
       "    .dataframe tbody tr th {\n",
       "        vertical-align: top;\n",
       "    }\n",
       "\n",
       "    .dataframe thead th {\n",
       "        text-align: right;\n",
       "    }\n",
       "</style>\n",
       "<table border=\"1\" class=\"dataframe\">\n",
       "  <thead>\n",
       "    <tr style=\"text-align: right;\">\n",
       "      <th></th>\n",
       "      <th>review_id</th>\n",
       "      <th>title</th>\n",
       "      <th>year</th>\n",
       "      <th>user_review</th>\n",
       "    </tr>\n",
       "  </thead>\n",
       "  <tbody>\n",
       "    <tr>\n",
       "      <th>0</th>\n",
       "      <td>1603</td>\n",
       "      <td>Counter-Strike: Global Offensive</td>\n",
       "      <td>2015.0</td>\n",
       "      <td>Nice graphics, new maps, weapons and models. B...</td>\n",
       "    </tr>\n",
       "    <tr>\n",
       "      <th>1</th>\n",
       "      <td>1604</td>\n",
       "      <td>Counter-Strike: Global Offensive</td>\n",
       "      <td>2018.0</td>\n",
       "      <td>I would not recommend getting into this at its...</td>\n",
       "    </tr>\n",
       "    <tr>\n",
       "      <th>2</th>\n",
       "      <td>1605</td>\n",
       "      <td>Counter-Strike: Global Offensive</td>\n",
       "      <td>2018.0</td>\n",
       "      <td>Edit 11/12/18I have tried playing CS:GO recent...</td>\n",
       "    </tr>\n",
       "    <tr>\n",
       "      <th>3</th>\n",
       "      <td>1606</td>\n",
       "      <td>Counter-Strike: Global Offensive</td>\n",
       "      <td>2015.0</td>\n",
       "      <td>The game is great. But the community is the wo...</td>\n",
       "    </tr>\n",
       "    <tr>\n",
       "      <th>4</th>\n",
       "      <td>1607</td>\n",
       "      <td>Counter-Strike: Global Offensive</td>\n",
       "      <td>2015.0</td>\n",
       "      <td>I thank TrulyRazor for buying this for me a lo...</td>\n",
       "    </tr>\n",
       "  </tbody>\n",
       "</table>\n",
       "</div>"
      ],
      "text/plain": [
       "   review_id                             title    year  \\\n",
       "0       1603  Counter-Strike: Global Offensive  2015.0   \n",
       "1       1604  Counter-Strike: Global Offensive  2018.0   \n",
       "2       1605  Counter-Strike: Global Offensive  2018.0   \n",
       "3       1606  Counter-Strike: Global Offensive  2015.0   \n",
       "4       1607  Counter-Strike: Global Offensive  2015.0   \n",
       "\n",
       "                                         user_review  \n",
       "0  Nice graphics, new maps, weapons and models. B...  \n",
       "1  I would not recommend getting into this at its...  \n",
       "2  Edit 11/12/18I have tried playing CS:GO recent...  \n",
       "3  The game is great. But the community is the wo...  \n",
       "4  I thank TrulyRazor for buying this for me a lo...  "
      ]
     },
     "execution_count": 213,
     "metadata": {},
     "output_type": "execute_result"
    }
   ],
   "source": [
    "test = pd.read_csv(\"test_data/test.csv\")\n",
    "test.head()"
   ]
  },
  {
   "cell_type": "code",
   "execution_count": 218,
   "metadata": {},
   "outputs": [],
   "source": [
    "corpus = list(test['user_review'].values)\n",
    "text_sent = [data_utils.expand_contractions(sent) for sent in corpus]\n",
    "text_sent = [re.sub(\"http[s]*://[^\\s]+\",\" \",text) for text in text_sent]\n",
    "text_sent = [data_utils.remove_accented_chars(sent) for sent in text_sent]\n",
    "text_sent = [re.sub(\"[-!\\\"#$%&'()*+,./:;<=>?@\\][^_`|}{~']\",\" \",text) for text in text_sent]\n",
    "text_sent = [text.replace(\"\\\\\",\" \") for text in text_sent]\n",
    "text_sent = [re.sub(r'\\s+', ' ',sent) for sent in text_sent]\n",
    "text_sent = list(map(str.lower,text_sent))\n",
    "docs = nlp.pipe(text_sent,disable=[\"ner\",\"parser\"])\n",
    "cleaned_corpus = []\n",
    "for doc in docs:\n",
    "    doc_text = []\n",
    "    for token in doc:\n",
    "        if token.lemma_ != '-PRON-':\n",
    "            doc_text.append(token.lemma_)\n",
    "        else:\n",
    "            doc_text.append(token.text)\n",
    "    cleaned_corpus.append(doc_text)\n",
    "cleaned_corpus = [\" \".join(cleaned_text) for cleaned_text in cleaned_corpus]\n",
    "\n",
    "def give_train_clean():\n",
    "    for i in range(overview.shape[0]):\n",
    "        yield[test.user_review.values[i],cleaned_corpus[i]]\n",
    "gtc = give_train_clean()"
   ]
  },
  {
   "cell_type": "code",
   "execution_count": 219,
   "metadata": {},
   "outputs": [
    {
     "name": "stdout",
     "output_type": "stream",
     "text": [
      "---------------------ORIGINAL---------------------\n",
      "Nice graphics, new maps, weapons and models. But developers should listen to the customers a bit more. Developers you are focused too much on things that are not important at all. You should focus on changing the tick rate of the match making servers to 128 and improving VAC a lot. Those two are what customers really want and you should focus on. Not stickers, UI and HUD changes or skins. And stop messing around with the weapons.\n",
      "--------------------------------------------------\n",
      "\n",
      "---------------------CLEANED----------------------\n",
      "nice graphic new map weapon and model but developer should listen to the customer a bit more developer you be focus too much on thing that be not important at all you should focus on change the tick rate of the match make server to 128 and improve vac a lot those two be what customer really want and you should focus on not sticker ui and hud change or skin and stop mess around with the weapon\n",
      "--------------------------------------------------\n"
     ]
    }
   ],
   "source": [
    "vals = next(gtc)\n",
    "print(\"{:-^50}\".format(\"ORIGINAL\"))\n",
    "print(vals[0])\n",
    "print(\"{:-^50}\".format(\"\"))\n",
    "print(\"\")\n",
    "print(\"{:-^50}\".format(\"CLEANED\"))\n",
    "print(vals[1])\n",
    "print(\"{:-^50}\".format(\"\"))"
   ]
  },
  {
   "cell_type": "code",
   "execution_count": 220,
   "metadata": {},
   "outputs": [],
   "source": [
    "final_frame = test.copy()\n",
    "final_frame['user_review'] = cleaned_corpus\n",
    "final_frame.to_csv(\"latest_cleaned_data/test_lemmatized_withstop.csv\",index=False)"
   ]
  },
  {
   "cell_type": "code",
   "execution_count": 221,
   "metadata": {},
   "outputs": [
    {
     "data": {
      "text/html": [
       "<div>\n",
       "<style scoped>\n",
       "    .dataframe tbody tr th:only-of-type {\n",
       "        vertical-align: middle;\n",
       "    }\n",
       "\n",
       "    .dataframe tbody tr th {\n",
       "        vertical-align: top;\n",
       "    }\n",
       "\n",
       "    .dataframe thead th {\n",
       "        text-align: right;\n",
       "    }\n",
       "</style>\n",
       "<table border=\"1\" class=\"dataframe\">\n",
       "  <thead>\n",
       "    <tr style=\"text-align: right;\">\n",
       "      <th></th>\n",
       "      <th>review_id</th>\n",
       "      <th>title</th>\n",
       "      <th>year</th>\n",
       "      <th>user_review</th>\n",
       "    </tr>\n",
       "  </thead>\n",
       "  <tbody>\n",
       "    <tr>\n",
       "      <th>0</th>\n",
       "      <td>1603</td>\n",
       "      <td>Counter-Strike: Global Offensive</td>\n",
       "      <td>2015.0</td>\n",
       "      <td>nice graphic new map weapon and model but deve...</td>\n",
       "    </tr>\n",
       "    <tr>\n",
       "      <th>1</th>\n",
       "      <td>1604</td>\n",
       "      <td>Counter-Strike: Global Offensive</td>\n",
       "      <td>2018.0</td>\n",
       "      <td>i would not recommend get into this at its cur...</td>\n",
       "    </tr>\n",
       "    <tr>\n",
       "      <th>2</th>\n",
       "      <td>1605</td>\n",
       "      <td>Counter-Strike: Global Offensive</td>\n",
       "      <td>2018.0</td>\n",
       "      <td>edit 11 12 18i have try play cs go recently an...</td>\n",
       "    </tr>\n",
       "    <tr>\n",
       "      <th>3</th>\n",
       "      <td>1606</td>\n",
       "      <td>Counter-Strike: Global Offensive</td>\n",
       "      <td>2015.0</td>\n",
       "      <td>the game be great but the community be the bad...</td>\n",
       "    </tr>\n",
       "    <tr>\n",
       "      <th>4</th>\n",
       "      <td>1607</td>\n",
       "      <td>Counter-Strike: Global Offensive</td>\n",
       "      <td>2015.0</td>\n",
       "      <td>i thank trulyrazor for buy this for me a long ...</td>\n",
       "    </tr>\n",
       "  </tbody>\n",
       "</table>\n",
       "</div>"
      ],
      "text/plain": [
       "   review_id                             title    year  \\\n",
       "0       1603  Counter-Strike: Global Offensive  2015.0   \n",
       "1       1604  Counter-Strike: Global Offensive  2018.0   \n",
       "2       1605  Counter-Strike: Global Offensive  2018.0   \n",
       "3       1606  Counter-Strike: Global Offensive  2015.0   \n",
       "4       1607  Counter-Strike: Global Offensive  2015.0   \n",
       "\n",
       "                                         user_review  \n",
       "0  nice graphic new map weapon and model but deve...  \n",
       "1  i would not recommend get into this at its cur...  \n",
       "2  edit 11 12 18i have try play cs go recently an...  \n",
       "3  the game be great but the community be the bad...  \n",
       "4  i thank trulyrazor for buy this for me a long ...  "
      ]
     },
     "execution_count": 221,
     "metadata": {},
     "output_type": "execute_result"
    }
   ],
   "source": [
    "final_frame.head()"
   ]
  },
  {
   "cell_type": "code",
   "execution_count": null,
   "metadata": {},
   "outputs": [],
   "source": []
  }
 ],
 "metadata": {
  "kernelspec": {
   "display_name": "Python 3",
   "language": "python",
   "name": "python3"
  },
  "language_info": {
   "codemirror_mode": {
    "name": "ipython",
    "version": 3
   },
   "file_extension": ".py",
   "mimetype": "text/x-python",
   "name": "python",
   "nbconvert_exporter": "python",
   "pygments_lexer": "ipython3",
   "version": "3.7.5"
  }
 },
 "nbformat": 4,
 "nbformat_minor": 4
}
