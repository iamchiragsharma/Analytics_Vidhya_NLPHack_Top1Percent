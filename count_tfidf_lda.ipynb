{
 "cells": [
  {
   "cell_type": "code",
   "execution_count": 1,
   "metadata": {},
   "outputs": [],
   "source": [
    "import pandas as pd\n",
    "from sklearn.feature_extraction.text import TfidfVectorizer,CountVectorizer,TfidfTransformer\n",
    "from tqdm import tqdm\n",
    "import numpy as np"
   ]
  },
  {
   "cell_type": "code",
   "execution_count": 2,
   "metadata": {},
   "outputs": [],
   "source": [
    "from sklearn.model_selection import train_test_split\n",
    "from sklearn.linear_model import LogisticRegression\n",
    "from sklearn.metrics import f1_score"
   ]
  },
  {
   "cell_type": "code",
   "execution_count": 3,
   "metadata": {},
   "outputs": [],
   "source": [
    "import spacy\n",
    "nlp = spacy.load(\"en_core_web_sm\")"
   ]
  },
  {
   "cell_type": "code",
   "execution_count": 4,
   "metadata": {},
   "outputs": [],
   "source": [
    "def count_tfidf_without_stop_removal(train,create_test=True):\n",
    "    print(\"Original Train File: \", train.shape)\n",
    "    train = train.drop(train[train['user_review'].isna()].index) #Dropping na index from text\n",
    "    empty_idx = train[train['user_review'] == ' '].index\n",
    "    train = train.drop(index=empty_idx)\n",
    "    print(\"Train File After Dropping na and ' ' empty string: \",train.shape)\n",
    "    user_review = train.user_review.values\n",
    "    idx = []\n",
    "    for i,ur in enumerate(user_review): #Checking whether there are still values which are not string (nan is a float)\n",
    "        if not isinstance(ur,str):\n",
    "            idx.append(i)\n",
    "    train = train.drop(index=idx)\n",
    "    print(\"Train File After Double Check of na and ' ' empty string: \",train.shape)\n",
    "    user_review = train.user_review.values #Safe since we have updated train at each step\n",
    "    docs = nlp.pipe(user_review) #fitting it to the pipeline\n",
    "    cleaned_text = []\n",
    "    pbar = tqdm(total=len(user_review))\n",
    "    for i,doc in enumerate(docs):\n",
    "        doc_vec = []\n",
    "        for token in doc:\n",
    "            doc_vec.append(token.text)\n",
    "        cleaned_text.append(doc_vec)\n",
    "        if i%1000 == 0  and i != 0:\n",
    "            pbar.update(1000)\n",
    "    pbar.close()\n",
    "    print(\"++++++++++ CLEANING DONE +++++++++++++\")\n",
    "    print(\"+++++++++ ORIGINAL REVIEW +++++++++++\")\n",
    "    print(user_review[0])\n",
    "    print(\"+++++++++ TEXT CLEANED ++++++++++++++\")\n",
    "    print(\" \".join(cleaned_text[0]))\n",
    "    corpus = np.array([\" \".join(t) for t in cleaned_text])\n",
    "    if create_test:\n",
    "        X_train,X_test,y_train,y_test = train_test_split(corpus,train.user_suggestion.values,stratify=train.user_suggestion.values,test_size=0.2)\n",
    "        return X_train,X_test,y_train,y_test,corpus\n",
    "    else:\n",
    "        return corpus,train.user_suggestion.values,corpus"
   ]
  },
  {
   "cell_type": "code",
   "execution_count": 5,
   "metadata": {},
   "outputs": [],
   "source": [
    "def test_cleaning_without_stop_removal(test):\n",
    "    nan_idx = test[test['user_review'].isna()].index\n",
    "    test.loc[nan_idx,'user_review'] = test.loc[nan_idx,'title']\n",
    "    test_user_review = test.user_review\n",
    "    for i,ur in enumerate(test_user_review):\n",
    "        if not isinstance(ur,str):\n",
    "            print(i)\n",
    "    test_data = []\n",
    "    test_docs = nlp.pipe(test_user_review)\n",
    "    pbar = tqdm(total=len(test_user_review))\n",
    "    for i,doc in enumerate(test_docs):\n",
    "        doc_vec = []\n",
    "        for token in doc:\n",
    "            doc_vec.append(token.text)\n",
    "        test_data.append(doc_vec)\n",
    "        if i%1000 == 0  and i != 0:\n",
    "            pbar.update(1000)\n",
    "    pbar.close()\n",
    "    test_corpus = np.array([\" \".join(t) for t in test_data])\n",
    "    return test_corpus,test_corpus"
   ]
  },
  {
   "cell_type": "code",
   "execution_count": 6,
   "metadata": {},
   "outputs": [
    {
     "name": "stderr",
     "output_type": "stream",
     "text": [
      "  0%|          | 0/17472 [00:00<?, ?it/s]"
     ]
    },
    {
     "name": "stdout",
     "output_type": "stream",
     "text": [
      "Original Train File:  (17494, 9)\n",
      "Train File After Dropping na and ' ' empty string:  (17472, 9)\n",
      "Train File After Double Check of na and ' ' empty string:  (17472, 9)\n"
     ]
    },
    {
     "name": "stderr",
     "output_type": "stream",
     "text": [
      " 97%|█████████▋| 17000/17472 [04:49<00:08, 58.72it/s]\n"
     ]
    },
    {
     "name": "stdout",
     "output_type": "stream",
     "text": [
      "++++++++++ CLEANING DONE +++++++++++++\n",
      "+++++++++ ORIGINAL REVIEW +++++++++++\n",
      "i am scared and hearing creepy voices so i will pause for a moment and write a review while i wait for my heart beat to return to atleast somewhat calmer times this game is adorable and creepy like my happy tree friends but with the graphics sceme of my childhood but more bubble and clean hello 1990s what charactes there are that isnot trying to kill me were likable and a bit odd i did do a few noob things though such as oh look a class room full of ghosts from dead children lets shine my flashlight on them and stand there staring at them or hmm creepy music i will turn around and see if i can see what is chasing me never before in a game have i been this afraid of finding a locked door\n",
      "+++++++++ TEXT CLEANED ++++++++++++++\n",
      "i am scared and hearing creepy voices so i will pause for a moment and write a review while i wait for my heart beat to return to atleast somewhat calmer times this game is adorable and creepy like my happy tree friends but with the graphics sceme of my childhood but more bubble and clean hello 1990s what charactes there are that isnot trying to kill me were likable and a bit odd i did do a few noob things though such as oh look a class room full of ghosts from dead children lets shine my flashlight on them and stand there staring at them or hmm creepy music i will turn around and see if i can see what is chasing me never before in a game have i been this afraid of finding a locked door\n"
     ]
    }
   ],
   "source": [
    "train = pd.read_csv(\"proper_cleaned_data/clean_review_tags_overview_notremoved_stopwords_frequent_nonfrequent_words.csv\")\n",
    "X_train,X_test,y_train,y_test,train_corpus = count_tfidf_without_stop_removal(train)"
   ]
  },
  {
   "cell_type": "code",
   "execution_count": null,
   "metadata": {},
   "outputs": [],
   "source": [
    "cv = CountVectorizer(ngram_range=(1,2))\n",
    "full_corpus = cv.fit_transform(train_corpus)\n",
    "X_train_cv = cv.transform(X_train)\n",
    "X_test_cv = cv.transform(X_test)\n",
    "tf = TfidfTransformer()\n",
    "tf.fit(full_corpus)\n",
    "X_train_cv = tf.transform(X_train_cv).toarray()\n",
    "X_test_cv = tf.transform(X_test_cv).toarray()"
   ]
  },
  {
   "cell_type": "code",
   "execution_count": null,
   "metadata": {},
   "outputs": [],
   "source": []
  }
 ],
 "metadata": {
  "kernelspec": {
   "display_name": "Python 3",
   "language": "python",
   "name": "python3"
  },
  "language_info": {
   "codemirror_mode": {
    "name": "ipython",
    "version": 3
   },
   "file_extension": ".py",
   "mimetype": "text/x-python",
   "name": "python",
   "nbconvert_exporter": "python",
   "pygments_lexer": "ipython3",
   "version": "3.7.5"
  }
 },
 "nbformat": 4,
 "nbformat_minor": 4
}
